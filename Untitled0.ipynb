{
  "nbformat": 4,
  "nbformat_minor": 0,
  "metadata": {
    "colab": {
      "provenance": [],
      "authorship_tag": "ABX9TyN65/cWfb8YN/rK1Q/4JXHK",
      "include_colab_link": true
    },
    "kernelspec": {
      "name": "python3",
      "display_name": "Python 3"
    },
    "language_info": {
      "name": "python"
    }
  },
  "cells": [
    {
      "cell_type": "markdown",
      "metadata": {
        "id": "view-in-github",
        "colab_type": "text"
      },
      "source": [
        "<a href=\"https://colab.research.google.com/github/Prathap3443/Data-science/blob/main/Untitled0.ipynb\" target=\"_parent\"><img src=\"https://colab.research.google.com/assets/colab-badge.svg\" alt=\"Open In Colab\"/></a>"
      ]
    },
    {
      "cell_type": "code",
      "execution_count": null,
      "metadata": {
        "colab": {
          "base_uri": "https://localhost:8080/"
        },
        "id": "UabuZw_2rbEC",
        "outputId": "45821602-b6d6-42fb-f860-0b6267f8c7ba"
      },
      "outputs": [
        {
          "output_type": "stream",
          "name": "stdout",
          "text": [
            "Hello, excited to start data science\n"
          ]
        }
      ],
      "source": [
        "print(\"Hello, excited to start data science\")"
      ]
    },
    {
      "cell_type": "code",
      "source": [
        "costemer name"
      ],
      "metadata": {
        "colab": {
          "base_uri": "https://localhost:8080/",
          "height": 106
        },
        "id": "rPAvQFEgsJx5",
        "outputId": "bd6d9fda-72ac-4a4b-e54a-d353ca3318e4"
      },
      "execution_count": null,
      "outputs": [
        {
          "output_type": "error",
          "ename": "SyntaxError",
          "evalue": "invalid syntax (<ipython-input-2-2ad405d8b141>, line 1)",
          "traceback": [
            "\u001b[0;36m  File \u001b[0;32m\"<ipython-input-2-2ad405d8b141>\"\u001b[0;36m, line \u001b[0;32m1\u001b[0m\n\u001b[0;31m    costemer name\u001b[0m\n\u001b[0m             ^\u001b[0m\n\u001b[0;31mSyntaxError\u001b[0m\u001b[0;31m:\u001b[0m invalid syntax\n"
          ]
        }
      ]
    },
    {
      "cell_type": "code",
      "source": [],
      "metadata": {
        "id": "ug9pXv9LsYTp"
      },
      "execution_count": null,
      "outputs": []
    },
    {
      "cell_type": "code",
      "source": [
        "costomer_name  = \"Bala murugan\"\n",
        "costomer_age = 19\n",
        "costomer_balence =50000000000000\n",
        "print(\"costemer:\",costomer_name)\n",
        "print(\"age:\",costomer_age)\n",
        "print(\"balence:\",costomer_balence)"
      ],
      "metadata": {
        "colab": {
          "base_uri": "https://localhost:8080/"
        },
        "id": "1McEKOhbsY14",
        "outputId": "58eb1b1e-3dbc-4ba1-8fd8-aed5f4047682"
      },
      "execution_count": null,
      "outputs": [
        {
          "output_type": "stream",
          "name": "stdout",
          "text": [
            "costemer: Bala murugan\n",
            "age: 19\n",
            "balence: 50000000000000\n"
          ]
        }
      ]
    },
    {
      "cell_type": "code",
      "source": [
        "from typing_extensions import final\n",
        "product_price=3400\n",
        "discount=product_price*0.60\n",
        "print(\"final price:\",final_price)\n"
      ],
      "metadata": {
        "colab": {
          "base_uri": "https://localhost:8080/"
        },
        "id": "iyQMY4e1ueu1",
        "outputId": "ca37def3-364f-499d-f1b1-6bab69d27724"
      },
      "execution_count": null,
      "outputs": [
        {
          "output_type": "stream",
          "name": "stdout",
          "text": [
            "final price: 1360.0\n"
          ]
        }
      ]
    },
    {
      "cell_type": "code",
      "source": [
        "print"
      ],
      "metadata": {
        "id": "cYRV0tHJxzbG"
      },
      "execution_count": null,
      "outputs": []
    },
    {
      "cell_type": "code",
      "source": [],
      "metadata": {
        "colab": {
          "base_uri": "https://localhost:8080/"
        },
        "id": "xnmoYXHUvt8j",
        "outputId": "d9ab08a2-544f-4b04-d703-23efcbf14349"
      },
      "execution_count": null,
      "outputs": [
        {
          "output_type": "stream",
          "name": "stdout",
          "text": [
            "sales date: [120 130 140 150 160 170]\n"
          ]
        }
      ]
    },
    {
      "cell_type": "code",
      "source": [],
      "metadata": {
        "id": "R1f6F0t-sUjd"
      },
      "execution_count": null,
      "outputs": []
    }
  ]
}